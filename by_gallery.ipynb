{
 "metadata": {
  "name": "",
  "signature": "sha256:d87daf209edb02a95f3b47f6816064721dca9779c4bc981ebaec9eb19a470eab"
 },
 "nbformat": 3,
 "nbformat_minor": 0,
 "worksheets": [
  {
   "cells": [
    {
     "cell_type": "code",
     "collapsed": false,
     "input": [
      "import time\n",
      "import csv"
     ],
     "language": "python",
     "metadata": {},
     "outputs": [],
     "prompt_number": 1
    },
    {
     "cell_type": "code",
     "collapsed": false,
     "input": [
      "def csv_to_list(csv_file, delimiter=','):\n",
      "    \"\"\" \n",
      "    Reads in a CSV file and returns the contents as list,\n",
      "    where every row is stored as a sublist, and each element\n",
      "    in the sublist represents 1 cell in the table.\n",
      "    \n",
      "    \"\"\"\n",
      "    with open(csv_file, 'r') as csv_con:\n",
      "        reader = csv.reader(csv_con, delimiter=delimiter)\n",
      "        return list(reader)"
     ],
     "language": "python",
     "metadata": {},
     "outputs": [],
     "prompt_number": 2
    },
    {
     "cell_type": "code",
     "collapsed": false,
     "input": [
      "def write_csv(dest, csv_cont):\n",
      "    \"\"\" Writes a comma-delimited CSV file. \"\"\"\n",
      "\n",
      "    with open(dest, 'w') as out_file:\n",
      "        writer = csv.writer(out_file, delimiter=',')\n",
      "        for row in csv_cont:\n",
      "            writer.writerow(row)"
     ],
     "language": "python",
     "metadata": {},
     "outputs": [],
     "prompt_number": 3
    },
    {
     "cell_type": "code",
     "collapsed": false,
     "input": [
      "counts = csv_to_list(\"data/crdid_ranking_w_everything.csv\")\n",
      "gallery_no=csv_to_list(\"data/gallery_numbers.csv\")"
     ],
     "language": "python",
     "metadata": {},
     "outputs": [],
     "prompt_number": 4
    },
    {
     "cell_type": "code",
     "collapsed": false,
     "input": [
      "print counts[0]\n",
      "print counts[1]"
     ],
     "language": "python",
     "metadata": {},
     "outputs": [
      {
       "output_type": "stream",
       "stream": "stdout",
       "text": [
        "['crdid', 'number', 'title', 'artist', 'gallery']\n",
        "['437980', '6217', 'Cypresses', 'Vincent van Gogh ', '826']\n"
       ]
      }
     ],
     "prompt_number": 5
    },
    {
     "cell_type": "code",
     "collapsed": false,
     "input": [
      "print gallery_no[0]\n",
      "print gallery_no[1]"
     ],
     "language": "python",
     "metadata": {},
     "outputs": [
      {
       "output_type": "stream",
       "stream": "stdout",
       "text": [
        "['no_in', 'no_out', 'gallery']\n",
        "['700', '774', 'The American Wing']\n"
       ]
      }
     ],
     "prompt_number": 10
    },
    {
     "cell_type": "code",
     "collapsed": false,
     "input": [
      "final = {}\n",
      "for name in gallery_no[1:]:\n",
      "    if str(name[2]) in final:\n",
      "        print \"hi\"\n",
      "    else:\n",
      "        final[str(name[2])] = 0;\n",
      "print final"
     ],
     "language": "python",
     "metadata": {},
     "outputs": [
      {
       "output_type": "stream",
       "stream": "stdout",
       "text": [
        "hi\n",
        "hi\n",
        "hi\n",
        "hi\n",
        "hi\n",
        "{'Photographs': 0, 'Arms and Armor': 0, 'The American Wing': 0, 'The Robert Lehman Collection': 0, 'European Sculpture and Decorative Arts': 0, 'Arts of Africa, Oceania, and the Americas': 0, 'Islamic Art': 0, 'The Costume Institute': 0, 'Medieval Art': 0, 'Greek and Roman Art': 0, 'European Paintings': 0, 'Musical Instruments': 0, 'Drawings and Prints': 0, 'Egyptian Art': 0, 'Ancient Near Eastern Art': 0, 'The Cloisters': 0, 'Asian Art': 0, 'Modern and Contemporary Art': 0}\n"
       ]
      }
     ],
     "prompt_number": 19
    },
    {
     "cell_type": "code",
     "collapsed": false,
     "input": [
      "type(final['Photographs'])"
     ],
     "language": "python",
     "metadata": {},
     "outputs": [
      {
       "metadata": {},
       "output_type": "pyout",
       "prompt_number": 22,
       "text": [
        "int"
       ]
      }
     ],
     "prompt_number": 22
    },
    {
     "cell_type": "code",
     "collapsed": false,
     "input": [
      "\n",
      "for count in counts[1:]:\n",
      "    for gallery in gallery_no[1:]:\n",
      "        if count[4]>= gallery[0] and count[4]<=gallery[1]:\n",
      "            final[str(gallery[2])] += int(count[4])\n",
      "\n",
      "print final"
     ],
     "language": "python",
     "metadata": {},
     "outputs": [
      {
       "output_type": "stream",
       "stream": "stdout",
       "text": [
        "{'Photographs': 0, 'Arms and Armor': 14208, 'The American Wing': 106722, 'The Robert Lehman Collection': 23890, 'European Sculpture and Decorative Arts': 26645, 'Arts of Africa, Oceania, and the Americas': 18390, 'Islamic Art': 15012, 'The Costume Institute': 0, 'Medieval Art': 14266, 'Greek and Roman Art': 7096, 'European Paintings': 368984, 'Musical Instruments': 10931, 'Drawings and Prints': 3450, 'Egyptian Art': 7623, 'Ancient Near Eastern Art': 21386, 'The Cloisters': 14999, 'Asian Art': 6210, 'Modern and Contemporary Art': 52980}\n"
       ]
      }
     ],
     "prompt_number": 23
    },
    {
     "cell_type": "code",
     "collapsed": false,
     "input": [
      "final"
     ],
     "language": "python",
     "metadata": {},
     "outputs": [
      {
       "metadata": {},
       "output_type": "pyout",
       "prompt_number": 26,
       "text": [
        "{'Ancient Near Eastern Art': 21386,\n",
        " 'Arms and Armor': 14208,\n",
        " 'Arts of Africa, Oceania, and the Americas': 18390,\n",
        " 'Asian Art': 6210,\n",
        " 'Drawings and Prints': 3450,\n",
        " 'Egyptian Art': 7623,\n",
        " 'European Paintings': 368984,\n",
        " 'European Sculpture and Decorative Arts': 26645,\n",
        " 'Greek and Roman Art': 7096,\n",
        " 'Islamic Art': 15012,\n",
        " 'Medieval Art': 14266,\n",
        " 'Modern and Contemporary Art': 52980,\n",
        " 'Musical Instruments': 10931,\n",
        " 'Photographs': 0,\n",
        " 'The American Wing': 106722,\n",
        " 'The Cloisters': 14999,\n",
        " 'The Costume Institute': 0,\n",
        " 'The Robert Lehman Collection': 23890}"
       ]
      }
     ],
     "prompt_number": 26
    },
    {
     "cell_type": "code",
     "collapsed": false,
     "input": [],
     "language": "python",
     "metadata": {},
     "outputs": []
    }
   ],
   "metadata": {}
  }
 ]
}